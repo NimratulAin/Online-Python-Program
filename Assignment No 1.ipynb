{
 "cells": [
  {
   "cell_type": "code",
   "execution_count": 1,
   "id": "31c3a0c8",
   "metadata": {},
   "outputs": [
    {
     "name": "stdout",
     "output_type": "stream",
     "text": [
      "Twinkle, twinkle, little star,\n",
      "\t How I wonder what you are! \n",
      "\t\tUp above the world so high,\n",
      "\t\tLike a diamond in the sky,\n",
      "Twinkle, twinkle, little star,\n",
      "\t How I wonder what you are\n"
     ]
    }
   ],
   "source": [
    "print(\"Twinkle, twinkle, little star,\\n\\t How I wonder what you are! \\n\\t\\tUp above the world so high,\\n\\t\\tLike a diamond in the sky,\\nTwinkle, twinkle, little star,\\n\\t How I wonder what you are\")"
   ]
  },
  {
   "cell_type": "code",
   "execution_count": 2,
   "id": "de325fb6",
   "metadata": {},
   "outputs": [
    {
     "name": "stdout",
     "output_type": "stream",
     "text": [
      "3.9.7 (default, Sep 16 2021, 16:59:28) [MSC v.1916 64 bit (AMD64)]\n"
     ]
    }
   ],
   "source": [
    "import sys\n",
    "print(sys.version\n",
    "     )"
   ]
  },
  {
   "cell_type": "code",
   "execution_count": 3,
   "id": "961abf4a",
   "metadata": {},
   "outputs": [
    {
     "name": "stdout",
     "output_type": "stream",
     "text": [
      "now = 2022-01-01 21:36:12.693015\n"
     ]
    }
   ],
   "source": [
    "from datetime import datetime\n",
    "now = datetime.now()\n",
    "print(\"now =\", now)"
   ]
  },
  {
   "cell_type": "code",
   "execution_count": 4,
   "id": "b5d4e599",
   "metadata": {},
   "outputs": [
    {
     "name": "stdout",
     "output_type": "stream",
     "text": [
      "Enter radius of a cicle =1\n",
      "Area of a circle is 3.144\n"
     ]
    }
   ],
   "source": [
    "x = int(input(\"Enter radius of a cicle =\"))\n",
    "print(\"Area of a circle is\", (3.144 * x**2))\n"
   ]
  },
  {
   "cell_type": "code",
   "execution_count": 5,
   "id": "4c0ca8ee",
   "metadata": {},
   "outputs": [
    {
     "name": "stdout",
     "output_type": "stream",
     "text": [
      "Enter the first number = 1\n",
      "Enter the second number = 1\n",
      "2\n"
     ]
    }
   ],
   "source": [
    "x = int(input(\"Enter the first number = \"))\n",
    "y = int(input(\"Enter the second number = \") )\n",
    "z = x + y\n",
    "print (z)"
   ]
  },
  {
   "cell_type": "code",
   "execution_count": 6,
   "id": "acbb9405",
   "metadata": {},
   "outputs": [
    {
     "name": "stdout",
     "output_type": "stream",
     "text": [
      "Ain   Nimratul\n"
     ]
    }
   ],
   "source": [
    "# Nimratul Ain\n",
    "x = \"Nimratul\"\n",
    "y = \"Ain\"\n",
    "print(y,\" \",x)\n"
   ]
  },
  {
   "cell_type": "code",
   "execution_count": null,
   "id": "f49cd65c",
   "metadata": {},
   "outputs": [],
   "source": []
  }
 ],
 "metadata": {
  "kernelspec": {
   "display_name": "Python 3 (ipykernel)",
   "language": "python",
   "name": "python3"
  },
  "language_info": {
   "codemirror_mode": {
    "name": "ipython",
    "version": 3
   },
   "file_extension": ".py",
   "mimetype": "text/x-python",
   "name": "python",
   "nbconvert_exporter": "python",
   "pygments_lexer": "ipython3",
   "version": "3.9.7"
  }
 },
 "nbformat": 4,
 "nbformat_minor": 5
}
